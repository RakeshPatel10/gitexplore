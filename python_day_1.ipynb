{
  "nbformat": 4,
  "nbformat_minor": 0,
  "metadata": {
    "colab": {
      "provenance": [],
      "authorship_tag": "ABX9TyOlPRXe/AkNd5T08TOYEvgg",
      "include_colab_link": true
    },
    "kernelspec": {
      "name": "python3",
      "display_name": "Python 3"
    },
    "language_info": {
      "name": "python"
    }
  },
  "cells": [
    {
      "cell_type": "markdown",
      "metadata": {
        "id": "view-in-github",
        "colab_type": "text"
      },
      "source": [
        "<a href=\"https://colab.research.google.com/github/RakeshPatel10/gitexplore/blob/master/python_day_1.ipynb\" target=\"_parent\"><img src=\"https://colab.research.google.com/assets/colab-badge.svg\" alt=\"Open In Colab\"/></a>"
      ]
    },
    {
      "cell_type": "code",
      "execution_count": 5,
      "metadata": {
        "colab": {
          "base_uri": "https://localhost:8080/"
        },
        "id": "wV_5Y1ZFkKvi",
        "outputId": "c25992fe-503a-44d6-e352-302578e1e5f5"
      },
      "outputs": [
        {
          "output_type": "stream",
          "name": "stdout",
          "text": [
            "Hello wolrd\n",
            "Venky\n"
          ]
        }
      ],
      "source": [
        "print(\"Hello wolrd\")\n",
        "print(\"Venky\")"
      ]
    },
    {
      "cell_type": "markdown",
      "source": [
        "**Use case of: end**\n",
        "\n",
        "**default: end=\"\\n\"**"
      ],
      "metadata": {
        "id": "Dfn7szNgJMdv"
      }
    },
    {
      "cell_type": "code",
      "source": [
        "print(\"Hello world\", end=\"\\n\\n\")\n",
        "print(\"Venky\")\n",
        "\n",
        "print(\"Hello world\", end=\"\")\n",
        "print(\"Venky\")\n",
        "## this also works for new line\n",
        "print(\"rakesh is on second line \\n\") ## this gives 2 line space\n",
        "print(\"after escape sequence\")"
      ],
      "metadata": {
        "colab": {
          "base_uri": "https://localhost:8080/"
        },
        "id": "YS73rsj3Jise",
        "outputId": "ed69cfd6-4653-4ab3-c5a0-9550fcae6f30"
      },
      "execution_count": 15,
      "outputs": [
        {
          "output_type": "stream",
          "name": "stdout",
          "text": [
            "Hello world\n",
            "\n",
            "Venky\n",
            "Hello worldVenky\n",
            "rakesh is on second line \n",
            "\n",
            "after escape sequence\n"
          ]
        }
      ]
    },
    {
      "cell_type": "markdown",
      "source": [
        "**Use case of : sep**"
      ],
      "metadata": {
        "id": "6SqCJ9GNLLD1"
      }
    },
    {
      "cell_type": "code",
      "source": [
        "print(\"Hello\",\"Rakesh\",\"Patel\")\n",
        "print(\"Hello\",\"Rakesh\",\"Patel\",sep=\"\")\n",
        "print(\"Hello\",\"Rakesh\",\"Patel\",sep=\"***\")\n",
        "print(\"Hello\",\"Rakesh\",\"Patel\",sep=\"\\n\")\n"
      ],
      "metadata": {
        "colab": {
          "base_uri": "https://localhost:8080/"
        },
        "id": "B-1OnEV4LT2S",
        "outputId": "406d431d-9a94-4d99-dc69-b5d07d765a9e"
      },
      "execution_count": 20,
      "outputs": [
        {
          "output_type": "stream",
          "name": "stdout",
          "text": [
            "Hello Rakesh Patel\n",
            "HelloRakeshPatel\n",
            "Hello***Rakesh***Patel\n",
            "Hello\n",
            "Rakesh\n",
            "Patel\n"
          ]
        }
      ]
    },
    {
      "cell_type": "code",
      "source": [
        "print(\"welcome to rbr sir course\",\"this is rakesh\",sep=\"++\",end=\"**\\n*\")\n",
        "print(\"checkout to this course\",end=\"\\n\\n\")\n",
        "print(\"hi this is rakesh\")\n"
      ],
      "metadata": {
        "colab": {
          "base_uri": "https://localhost:8080/"
        },
        "id": "VirlLWQoOuYi",
        "outputId": "fef7578e-2c2e-41a2-e70a-c422c5300537"
      },
      "execution_count": 26,
      "outputs": [
        {
          "output_type": "stream",
          "name": "stdout",
          "text": [
            "welcome to rbr sir course++this is rakesh**\n",
            "*checkout to this course\n",
            "\n",
            "hi this is rakesh\n"
          ]
        }
      ]
    },
    {
      "cell_type": "code",
      "source": [
        "a=35\n",
        "print(a)\n",
        "print(type(a))\n",
        "print(id(a))\n"
      ],
      "metadata": {
        "colab": {
          "base_uri": "https://localhost:8080/"
        },
        "id": "l9BuP6FFQDFw",
        "outputId": "ec64a38f-206d-4a51-b750-77f9e7e74852"
      },
      "execution_count": 34,
      "outputs": [
        {
          "output_type": "stream",
          "name": "stdout",
          "text": [
            "35\n",
            "<class 'int'>\n",
            "136952435787056\n"
          ]
        }
      ]
    }
  ]
}